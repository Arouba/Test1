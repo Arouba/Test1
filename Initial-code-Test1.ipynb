{
 "cells": [
  {
   "cell_type": "markdown",
   "source": [
    "# Code"
   ],
   "metadata": {}
  },
  {
   "cell_type": "markdown",
   "source": [
    "**Initial Code**\n"
   ],
   "metadata": {}
  },
  {
   "cell_type": "code",
   "execution_count": 2,
   "source": [
    "print('Hello World')"
   ],
   "outputs": [
    {
     "output_type": "stream",
     "name": "stdout",
     "text": [
      "Hello World\n"
     ]
    }
   ],
   "metadata": {}
  }
 ],
 "metadata": {
  "orig_nbformat": 4,
  "language_info": {
   "name": "python",
   "version": "3.9.1",
   "mimetype": "text/x-python",
   "codemirror_mode": {
    "name": "ipython",
    "version": 3
   },
   "pygments_lexer": "ipython3",
   "nbconvert_exporter": "python",
   "file_extension": ".py"
  },
  "kernelspec": {
   "name": "python3",
   "display_name": "Python 3.9.1 64-bit ('miniconda3': virtualenv)"
  },
  "interpreter": {
   "hash": "7ebc4831230ab089c84145cf80a99cf3b64364336e2f857a3b32dd1c985847a6"
  }
 },
 "nbformat": 4,
 "nbformat_minor": 2
}